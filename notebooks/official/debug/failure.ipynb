{
  "cells": [
    {
      "cell_type": "code",
      "execution_count": null,
      "metadata": {
        "id": "445a2d505bc0"
      },
      "outputs": [],
      "source": [
        "WRONG_FUNCTION_CALL"
      ]
    }
  ],
  "metadata": {
    "colab": {
      "name": "failure.ipynb",
      "toc_visible": true
    },
    "kernelspec": {
      "display_name": "Python 3",
      "name": "python3"
    }
  },
  "nbformat": 4,
  "nbformat_minor": 0
}
