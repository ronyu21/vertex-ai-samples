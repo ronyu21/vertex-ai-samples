{
  "cells": [
    {
      "cell_type": "code",
      "execution_count": null,
      "metadata": {
        "id": "a881a0e7bef1"
      },
      "outputs": [],
      "source": [
        "print(\"hello world\")"
      ]
    },
    {
      "cell_type": "code",
      "execution_count": null,
      "metadata": {
        "id": "1f755416abb0"
      },
      "outputs": [],
      "source": [
        "# Test that the variable substitution works\n",
        "PROJECT_ID = \"[your_project_id_here]\"\n",
        "\n",
        "\n",
        "def compare(first: str, second: str):\n",
        "    return first == second\n",
        "\n",
        "\n",
        "if compare(PROJECT_ID, \"[your_project_id_here]\"):\n",
        "    raise RuntimeError(\"Variable not replaced\")"
      ]
    },
    {
      "cell_type": "code",
      "execution_count": null,
      "metadata": {
        "id": "3ed3e7e59017"
      },
      "outputs": [],
      "source": [
        "# Test that the no_execute tag works\n",
        "raise RuntimeError(\"no_execute tag not working.\")"
      ]
    },
    {
      "cell_type": "code",
      "execution_count": null,
      "metadata": {
        "id": "605ab100d734"
      },
      "outputs": [],
      "source": [
        "# Test that the IS_TESTING environmental variable works\n",
        "import os\n",
        "\n",
        "if not os.getenv(\"IS_TESTING\"):\n",
        "    # This code will be exempt from execution\n",
        "    raise RuntimeError(\"IS_TESTING environment variable not detected.\")"
      ]
    }
  ],
  "metadata": {
    "colab": {
      "name": "success.ipynb",
      "toc_visible": true
    },
    "kernelspec": {
      "display_name": "Python 3",
      "name": "python3"
    }
  },
  "nbformat": 4,
  "nbformat_minor": 0
}
